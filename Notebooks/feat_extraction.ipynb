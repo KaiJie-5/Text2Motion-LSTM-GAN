{
 "cells": [
  {
   "cell_type": "code",
   "execution_count": 2,
   "metadata": {},
   "outputs": [],
   "source": [
    "import numpy as np\n",
    "import torch\n",
    "import sys\n",
    "sys.path.append('/lyceum/kjl1a21/Filestone/Individual_Project/2nd_week_3rd_week/LSTM_GAN/evaluate_model')\n",
    "\n",
    "from embedding_space_evaluator import EmbeddingSpaceEvaluator\n",
    "from train_AE import make_tensor"
   ]
  },
  {
   "cell_type": "code",
   "execution_count": 3,
   "metadata": {},
   "outputs": [
    {
     "name": "stderr",
     "output_type": "stream",
     "text": [
      "/lyceum/kjl1a21/Filestone/Individual_Project/2nd_week_3rd_week/LSTM_GAN/evaluate_model/embedding_space_evaluator.py:14: FutureWarning: You are using `torch.load` with `weights_only=False` (the current default value), which uses the default pickle module implicitly. It is possible to construct malicious pickle data which will execute arbitrary code during unpickling (See https://github.com/pytorch/pytorch/blob/main/SECURITY.md#untrusted-models for more details). In a future release, the default value for `weights_only` will be flipped to `True`. This limits the functions that could be executed during unpickling. Arbitrary objects will no longer be allowed to be loaded via this mode unless they are explicitly allowlisted by the user via `torch.serialization.add_safe_globals`. We recommend you start setting `weights_only=True` for any use case where you don't have full control of the loaded file. Please open an issue on GitHub for any issues related to this experimental feature.\n",
      "  ckpt = torch.load(embed_net_path, map_location=device)\n"
     ]
    }
   ],
   "source": [
    "n_frames = 32\n",
    "epoch = np.linspace(0,150,4, dtype= int)\n",
    "case_number = 10\n",
    "\n",
    "device = torch.device(\"cuda:0\" if torch.cuda.is_available() else \"cpu\")\n",
    "\n",
    "# AE model\n",
    "ae_path = '/lyceum/kjl1a21/Filestone/Individual_Project/2nd_week_3rd_week/LSTM_GAN/evaluate_model/model_checkpoint_upperbody_32.bin'\n",
    "fgd_evaluator = EmbeddingSpaceEvaluator(ae_path, n_frames, device)"
   ]
  },
  {
   "cell_type": "code",
   "execution_count": 4,
   "metadata": {},
   "outputs": [],
   "source": [
    "def poses_encoding(fgd_evaluator, gt_data):\n",
    "    fgd_evaluator.reset()\n",
    "\n",
    "    fgd_evaluator.push_generated_samples(gt_data)\n",
    "\n",
    "    # Get the list of feature batches (each entry is a numpy array)\n",
    "    generated_features_list = fgd_evaluator.generated_feat_list\n",
    "\n",
    "    # Stack all batches into a single numpy array (shape: [total_samples, feature_dim])\n",
    "    generated_features = np.vstack(generated_features_list)\n",
    "    return generated_features"
   ]
  },
  {
   "cell_type": "code",
   "execution_count": 12,
   "metadata": {},
   "outputs": [
    {
     "name": "stdout",
     "output_type": "stream",
     "text": [
      "torch.Size([4789, 32, 24])\n",
      "(4789, 32)\n",
      "Saved\n"
     ]
    }
   ],
   "source": [
    "case_number = 20\n",
    "\n",
    "generated_output = make_tensor(f'/lyceum/kjl1a21/Filestone/Individual_Project/2nd_week_3rd_week/LSTM_GAN/Model/Case_{case_number}/LSTM_Test_Motion_Model_Epoch_150.npy').to(device)\n",
    "print(generated_output.shape)\n",
    "\n",
    "features = poses_encoding(fgd_evaluator, generated_output)\n",
    "print(features.shape)\n",
    "np.save(f'/lyceum/kjl1a21/Filestone/Individual_Project/2nd_week_3rd_week/LSTM_GAN/Model/Case_{case_number}/poses_features.npy', features)\n",
    "print(\"Saved\")"
   ]
  },
  {
   "cell_type": "code",
   "execution_count": 7,
   "metadata": {},
   "outputs": [
    {
     "name": "stdout",
     "output_type": "stream",
     "text": [
      "torch.Size([1000, 32, 24])\n",
      "(1000, 32)\n",
      "(50, 20, 32)\n",
      "Saved\n"
     ]
    }
   ],
   "source": [
    "i = 20\n",
    "\n",
    "'''\n",
    "MMmodality_motion = np.load(f'/lyceum/kjl1a21/Filestone/Individual_Project/Text2Action-master/Text2Action-master/exec/MModality_motion.npy')\n",
    "print(MMmodality_motion.shape)\n",
    "\n",
    "#MMmodality_motion = np.squeeze(MMmodality_motion, axis= 2)\n",
    "#print(MMmodality_motion.shape)\n",
    "\n",
    "MMmodality_motion = MMmodality_motion.reshape(-1,32,24)\n",
    "print(MMmodality_motion.shape)\n",
    "\n",
    "np.save(f'/lyceum/kjl1a21/Filestone/Individual_Project/Text2Action-master/Text2Action-master/exec/MModality_motion.npy', MMmodality_motion)\n",
    "'''\n",
    "\n",
    "MMmodality_motion = make_tensor(f'/lyceum/kjl1a21/Filestone/Individual_Project/Text2Action-master/Text2Action-master/exec/MModality_motion.npy').to(device)\n",
    "print(MMmodality_motion.shape)\n",
    "\n",
    "features = poses_encoding(fgd_evaluator, MMmodality_motion)\n",
    "print(features.shape)\n",
    "features = features.reshape(50,20,32)\n",
    "print(features.shape)\n",
    "np.save(f'/lyceum/kjl1a21/Filestone/Individual_Project/Text2Action-master/Text2Action-master/exec/MModality_motion.npy', features)\n",
    "print(\"Saved\")\n"
   ]
  }
 ],
 "metadata": {
  "kernelspec": {
   "display_name": "evaluate",
   "language": "python",
   "name": "python3"
  },
  "language_info": {
   "codemirror_mode": {
    "name": "ipython",
    "version": 3
   },
   "file_extension": ".py",
   "mimetype": "text/x-python",
   "name": "python",
   "nbconvert_exporter": "python",
   "pygments_lexer": "ipython3",
   "version": "3.9.21"
  }
 },
 "nbformat": 4,
 "nbformat_minor": 2
}
